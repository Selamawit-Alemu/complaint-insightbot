{
 "cells": [
  {
   "cell_type": "code",
   "execution_count": 1,
   "id": "2b4ba736-93a0-484f-971e-a49f4c77a9cd",
   "metadata": {},
   "outputs": [],
   "source": [
    "import pandas as pd\n",
    "import matplotlib.pyplot as plt\n",
    "import seaborn as sns\n",
    "import numpy as np\n",
    "\n",
    "# Optional for nicer plots\n",
    "sns.set(style='whitegrid')\n"
   ]
  },
  {
   "cell_type": "code",
   "execution_count": 5,
   "id": "773e1c6a-e3ad-494b-b8f5-1238df149f41",
   "metadata": {},
   "outputs": [
    {
     "name": "stdout",
     "output_type": "stream",
     "text": [
      "Loaded sample shape: (500000, 18)\n"
     ]
    },
    {
     "data": {
      "text/html": [
       "<div>\n",
       "<style scoped>\n",
       "    .dataframe tbody tr th:only-of-type {\n",
       "        vertical-align: middle;\n",
       "    }\n",
       "\n",
       "    .dataframe tbody tr th {\n",
       "        vertical-align: top;\n",
       "    }\n",
       "\n",
       "    .dataframe thead th {\n",
       "        text-align: right;\n",
       "    }\n",
       "</style>\n",
       "<table border=\"1\" class=\"dataframe\">\n",
       "  <thead>\n",
       "    <tr style=\"text-align: right;\">\n",
       "      <th></th>\n",
       "      <th>Date received</th>\n",
       "      <th>Product</th>\n",
       "      <th>Sub-product</th>\n",
       "      <th>Issue</th>\n",
       "      <th>Sub-issue</th>\n",
       "      <th>Consumer complaint narrative</th>\n",
       "      <th>Company public response</th>\n",
       "      <th>Company</th>\n",
       "      <th>State</th>\n",
       "      <th>ZIP code</th>\n",
       "      <th>Tags</th>\n",
       "      <th>Consumer consent provided?</th>\n",
       "      <th>Submitted via</th>\n",
       "      <th>Date sent to company</th>\n",
       "      <th>Company response to consumer</th>\n",
       "      <th>Timely response?</th>\n",
       "      <th>Consumer disputed?</th>\n",
       "      <th>Complaint ID</th>\n",
       "    </tr>\n",
       "  </thead>\n",
       "  <tbody>\n",
       "    <tr>\n",
       "      <th>413036</th>\n",
       "      <td>2025-05-22</td>\n",
       "      <td>Credit reporting or other personal consumer re...</td>\n",
       "      <td>Credit reporting</td>\n",
       "      <td>Incorrect information on your report</td>\n",
       "      <td>Information belongs to someone else</td>\n",
       "      <td>NaN</td>\n",
       "      <td>NaN</td>\n",
       "      <td>TRANSUNION INTERMEDIATE HOLDINGS, INC.</td>\n",
       "      <td>MA</td>\n",
       "      <td>011XX</td>\n",
       "      <td>NaN</td>\n",
       "      <td>NaN</td>\n",
       "      <td>Web</td>\n",
       "      <td>2025-05-22</td>\n",
       "      <td>In progress</td>\n",
       "      <td>Yes</td>\n",
       "      <td>NaN</td>\n",
       "      <td>13668186</td>\n",
       "    </tr>\n",
       "    <tr>\n",
       "      <th>41639</th>\n",
       "      <td>2025-06-18</td>\n",
       "      <td>Credit reporting or other personal consumer re...</td>\n",
       "      <td>Credit reporting</td>\n",
       "      <td>Problem with a company's investigation into an...</td>\n",
       "      <td>Their investigation did not fix an error on yo...</td>\n",
       "      <td>NaN</td>\n",
       "      <td>NaN</td>\n",
       "      <td>Experian Information Solutions Inc.</td>\n",
       "      <td>MD</td>\n",
       "      <td>20678</td>\n",
       "      <td>NaN</td>\n",
       "      <td>NaN</td>\n",
       "      <td>Web</td>\n",
       "      <td>2025-06-18</td>\n",
       "      <td>In progress</td>\n",
       "      <td>Yes</td>\n",
       "      <td>NaN</td>\n",
       "      <td>14161648</td>\n",
       "    </tr>\n",
       "    <tr>\n",
       "      <th>36461</th>\n",
       "      <td>2025-06-18</td>\n",
       "      <td>Credit reporting or other personal consumer re...</td>\n",
       "      <td>Credit reporting</td>\n",
       "      <td>Incorrect information on your report</td>\n",
       "      <td>Information belongs to someone else</td>\n",
       "      <td>NaN</td>\n",
       "      <td>NaN</td>\n",
       "      <td>EQUIFAX, INC.</td>\n",
       "      <td>IL</td>\n",
       "      <td>60484</td>\n",
       "      <td>NaN</td>\n",
       "      <td>NaN</td>\n",
       "      <td>Web</td>\n",
       "      <td>2025-06-18</td>\n",
       "      <td>In progress</td>\n",
       "      <td>Yes</td>\n",
       "      <td>NaN</td>\n",
       "      <td>14155622</td>\n",
       "    </tr>\n",
       "  </tbody>\n",
       "</table>\n",
       "</div>"
      ],
      "text/plain": [
       "       Date received                                            Product  \\\n",
       "413036    2025-05-22  Credit reporting or other personal consumer re...   \n",
       "41639     2025-06-18  Credit reporting or other personal consumer re...   \n",
       "36461     2025-06-18  Credit reporting or other personal consumer re...   \n",
       "\n",
       "             Sub-product                                              Issue  \\\n",
       "413036  Credit reporting               Incorrect information on your report   \n",
       "41639   Credit reporting  Problem with a company's investigation into an...   \n",
       "36461   Credit reporting               Incorrect information on your report   \n",
       "\n",
       "                                                Sub-issue  \\\n",
       "413036                Information belongs to someone else   \n",
       "41639   Their investigation did not fix an error on yo...   \n",
       "36461                 Information belongs to someone else   \n",
       "\n",
       "       Consumer complaint narrative Company public response  \\\n",
       "413036                          NaN                     NaN   \n",
       "41639                           NaN                     NaN   \n",
       "36461                           NaN                     NaN   \n",
       "\n",
       "                                       Company State ZIP code Tags  \\\n",
       "413036  TRANSUNION INTERMEDIATE HOLDINGS, INC.    MA    011XX  NaN   \n",
       "41639      Experian Information Solutions Inc.    MD    20678  NaN   \n",
       "36461                            EQUIFAX, INC.    IL    60484  NaN   \n",
       "\n",
       "       Consumer consent provided? Submitted via Date sent to company  \\\n",
       "413036                        NaN           Web           2025-05-22   \n",
       "41639                         NaN           Web           2025-06-18   \n",
       "36461                         NaN           Web           2025-06-18   \n",
       "\n",
       "       Company response to consumer Timely response? Consumer disputed?  \\\n",
       "413036                  In progress              Yes                NaN   \n",
       "41639                   In progress              Yes                NaN   \n",
       "36461                   In progress              Yes                NaN   \n",
       "\n",
       "        Complaint ID  \n",
       "413036      13668186  \n",
       "41639       14161648  \n",
       "36461       14155622  "
      ]
     },
     "execution_count": 5,
     "metadata": {},
     "output_type": "execute_result"
    }
   ],
   "source": [
    "# Load first 500,000 rows\n",
    "df = pd.read_csv(\"../data/complaints.csv\", nrows=500000, low_memory=False)\n",
    "\n",
    "print(f\"Loaded sample shape: {df.shape}\")\n",
    "df.sample(3)\n",
    "\n",
    "#Due to resource constraints, a 500,000-row random sample of the full dataset was used for EDA and preprocessing. This sample is representative and sufficient for our analysis and prototyping"
   ]
  },
  {
   "cell_type": "code",
   "execution_count": 6,
   "id": "51d779a9-47ef-4d73-9409-634e4fa6dd4e",
   "metadata": {},
   "outputs": [
    {
     "data": {
      "text/plain": [
       "product\n",
       "Credit reporting or other personal consumer reports        448273\n",
       "Debt collection                                             26032\n",
       "Credit card                                                  8532\n",
       "Checking or savings account                                  6083\n",
       "Money transfer, virtual currency, or money service           2961\n",
       "Mortgage                                                     2105\n",
       "Student loan                                                 2093\n",
       "Vehicle loan or lease                                        1850\n",
       "Payday loan, title loan, personal loan, or advance loan      1104\n",
       "Prepaid card                                                  558\n",
       "Name: count, dtype: int64"
      ]
     },
     "execution_count": 6,
     "metadata": {},
     "output_type": "execute_result"
    }
   ],
   "source": [
    "df.columns = df.columns.str.lower().str.replace(\" \", \"_\")\n",
    "\n",
    "# Show top raw products\n",
    "df['product'].value_counts().head(10)\n"
   ]
  },
  {
   "cell_type": "code",
   "execution_count": 7,
   "id": "7518cb9b-c777-4025-a82f-cf88fc6021f4",
   "metadata": {},
   "outputs": [
    {
     "data": {
      "image/png": "[encoded data removed]",
      "text/plain": [
       "<Figure size 800x400 with 1 Axes>"
      ]
     },
     "metadata": {},
     "output_type": "display_data"
    },
    {
     "data": {
      "text/plain": [
       "count    26898.000000\n",
       "mean       182.980631\n",
       "std        188.167716\n",
       "min          3.000000\n",
       "25%         66.000000\n",
       "50%        132.000000\n",
       "75%        252.000000\n",
       "max       5307.000000\n",
       "Name: narrative_length, dtype: float64"
      ]
     },
     "execution_count": 7,
     "metadata": {},
     "output_type": "execute_result"
    }
   ],
   "source": [
    "# Drop missing narratives\n",
    "df = df[df.consumer_complaint_narrative.notna()].reset_index(drop=True)\n",
    "\n",
    "# Add narrative word count\n",
    "df['narrative_length'] = df['consumer_complaint_narrative'].apply(lambda x: len(str(x).split()))\n",
    "\n",
    "# Plot histogram\n",
    "import matplotlib.pyplot as plt\n",
    "import seaborn as sns\n",
    "\n",
    "plt.figure(figsize=(8, 4))\n",
    "sns.histplot(df['narrative_length'], bins=50, color='dodgerblue')\n",
    "plt.title(\"Distribution of Narrative Lengths\")\n",
    "plt.xlabel(\"Number of Words\")\n",
    "plt.ylabel(\"Frequency\")\n",
    "plt.xlim(0, 500)\n",
    "plt.tight_layout()\n",
    "plt.show()\n",
    "\n",
    "# Describe narrative length stats\n",
    "df[\"narrative_length\"].describe()\n"
   ]
  },
  {
   "cell_type": "code",
   "execution_count": 8,
   "id": "2837cff9-0c3e-49d5-a7df-b22b7a0b9b1c",
   "metadata": {},
   "outputs": [
    {
     "name": "stdout",
     "output_type": "stream",
     "text": [
      "With narratives: 4751\n",
      "Without narratives: 195249\n"
     ]
    }
   ],
   "source": [
    "# Load total raw sample again to count both\n",
    "raw = pd.read_csv(\"../data/complaints.csv\", nrows=200000, low_memory=False)\n",
    "raw.columns = raw.columns.str.lower().str.replace(\" \", \"_\")\n",
    "\n",
    "with_narr = raw['consumer_complaint_narrative'].notna().sum()\n",
    "without_narr = raw.shape[0] - with_narr\n",
    "\n",
    "print(f\"With narratives: {with_narr}\")\n",
    "print(f\"Without narratives: {without_narr}\")\n"
   ]
  },
  {
   "cell_type": "code",
   "execution_count": 9,
   "id": "2635984e-8d2d-4de4-bfbc-c00c2d310cc5",
   "metadata": {},
   "outputs": [],
   "source": [
    "product_map = {\n",
    "    \"Credit card or prepaid card\": \"Credit Cards\",\n",
    "    \"Credit reporting, credit repair services, or other personal consumer reports\": \"Credit Cards\",\n",
    "    \"Credit reporting or other personal consumer report\": \"Credit Cards\",\n",
    "    \"Checking or savings account\": \"Savings Accounts\",\n",
    "    \"Money transfer, virtual currency, or money service\": \"Money Transfers\",\n",
    "    \"Personal loan\": \"Personal Loans\",\n",
    "    \"Payday loan, title loan, or personal loan\": \"Personal Loans\",\n",
    "    \"Buy now, pay later\": \"BNPL\"\n",
    "}\n",
    "\n",
    "df[\"product_mapped\"] = df[\"product\"].map(product_map)\n",
    "df = df[df.product_mapped.notna()].reset_index(drop=True)\n"
   ]
  },
  {
   "cell_type": "code",
   "execution_count": 10,
   "id": "8a62dccb-4c07-4c7d-8f2c-873846943c08",
   "metadata": {},
   "outputs": [],
   "source": [
    "import re\n",
    "\n",
    "def clean_text(text):\n",
    "    text = str(text).lower()\n",
    "    text = re.sub(r\"[^a-z0-9\\s]\", \" \", text)  # Remove special characters\n",
    "    text = re.sub(r\"\\s+\", \" \", text)  # Collapse multiple spaces\n",
    "    text = re.sub(r\"^i am writing to file a complaint\", \"\", text)\n",
    "    return text.strip()\n",
    "\n",
    "df[\"cleaned_narrative\"] = df[\"consumer_complaint_narrative\"].apply(clean_text)\n"
   ]
  },
  {
   "cell_type": "code",
   "execution_count": 11,
   "id": "18baf930-ad55-48b9-a79b-eb27a099ba9f",
   "metadata": {},
   "outputs": [],
   "source": [
    "df[[\n",
    "    \"product_mapped\",\n",
    "    \"issue\",\n",
    "    \"cleaned_narrative\",\n",
    "    \"company\",\n",
    "    \"submitted_via\"\n",
    "]].to_csv(\"../data/filtered_complaints.csv\", index=False)\n"
   ]
  },
  {
   "cell_type": "code",
   "execution_count": null,
   "id": "d231a74d-fc31-4b75-acb0-f308a803e095",
   "metadata": {},
   "outputs": [],
   "source": [
    "\n"
   ]
  }
 ],
 "metadata": {
  "kernelspec": {
   "display_name": "Python 3 (ipykernel)",
   "language": "python",
   "name": "python3"
  },
  "language_info": {
   "codemirror_mode": {
    "name": "ipython",
    "version": 3
   },
   "file_extension": ".py",
   "mimetype": "text/x-python",
   "name": "python",
   "nbconvert_exporter": "python",
   "pygments_lexer": "ipython3",
   "version": "3.12.0"
  }
 },
 "nbformat": 4,
 "nbformat_minor": 5
}
